{
  "nbformat": 4,
  "nbformat_minor": 0,
  "metadata": {
    "colab": {
      "provenance": [],
      "authorship_tag": "ABX9TyOAfTviv24e48yWyf4tP3sS",
      "include_colab_link": true
    },
    "kernelspec": {
      "name": "python3",
      "display_name": "Python 3"
    },
    "language_info": {
      "name": "python"
    }
  },
  "cells": [
    {
      "cell_type": "markdown",
      "metadata": {
        "id": "view-in-github",
        "colab_type": "text"
      },
      "source": [
        "<a href=\"https://colab.research.google.com/github/RogerioTonini/20483-Programming-in-C-Sharp/blob/master/Live_023.ipynb\" target=\"_parent\"><img src=\"https://colab.research.google.com/assets/colab-badge.svg\" alt=\"Open In Colab\"/></a>"
      ]
    },
    {
      "cell_type": "code",
      "execution_count": 5,
      "metadata": {
        "colab": {
          "base_uri": "https://localhost:8080/"
        },
        "id": "s7t-bjQBgOty",
        "outputId": "48225f36-13b0-4cfe-ee95-6e87b8eaec5d"
      },
      "outputs": [
        {
          "output_type": "stream",
          "name": "stdout",
          "text": [
            "      id        NomeCompleto DataNascimento Salario\n",
            "0      1     Kim Abercrombie       19720515    5796\n",
            "1      2        Sagiv Hadaya       19770603    5796\n",
            "2      3          Luka Abrus       19641213    5796\n",
            "3      4          Kirk Nason       19650123    5796\n",
            "4      5    Humberto Acevedo       19650123    5796\n",
            "..   ...                 ...            ...     ...\n",
            "288  292      Nuria Gonzalez       19651031    1700\n",
            "289  293      Stuart Glasson       19680206    1950\n",
            "290  294  Daniel Goldschmidt       19650211    1000\n",
            "291  295     Gerhard Goeschl       19650809    1750\n",
            "292  296     Jossef Goldberg       19610418    1800\n",
            "\n",
            "[293 rows x 4 columns]\n"
          ]
        }
      ],
      "source": [
        "import ast             # dicionário str para dict\n",
        "import datetime as dt  # trabalhar com data e hora\n",
        "import pandas   as pd  # manipular dataframe (PowerQuery do Python)\n",
        "import requests        # fazer requisições\n",
        "\n",
        "url = \"http://api.willcode.tech/funcionarios/?USUARIO=USUARIO&SENHA=SENHA_SECRETA&ACAO=LISTAR-TODOS\"\n",
        "\n",
        "payload = {}\n",
        "headers = {}\n",
        "\n",
        "response = requests.request( \"GET\", url, headers=headers, data=payload )\n",
        "\n",
        "if response.status_code == 200:\n",
        "    df = pd.DataFrame.from_dict( ast.literal_eval( response.text ) )\n",
        "    print(df)\n",
        "else:\n",
        "    print(f\"Erro na requisição da API: {response.status_code}\")"
      ]
    }
  ]
}